{
 "cells": [
  {
   "cell_type": "markdown",
   "metadata": {},
   "source": [
    "# 《Python与量化投资--从基础到实战》\n",
    "作者：王小川、华创量化团队、优矿量化团队"
   ]
  },
  {
   "cell_type": "markdown",
   "metadata": {},
   "source": [
    "## 第二章 ：Python 基础介绍\n",
    "官方网站：http://books.hcquant.com/"
   ]
  },
  {
   "cell_type": "markdown",
   "metadata": {},
   "source": [
    "# 2.2 Python语法基础"
   ]
  },
  {
   "cell_type": "code",
   "execution_count": 5,
   "metadata": {},
   "outputs": [
    {
     "name": "stdout",
     "output_type": "stream",
     "text": [
      "100 (4+2j) 4.0\n"
     ]
    }
   ],
   "source": [
    "a=100\n",
    "b=4+2j\n",
    "print(a,b,b.real)"
   ]
  },
  {
   "cell_type": "code",
   "execution_count": 6,
   "metadata": {},
   "outputs": [
    {
     "name": "stdout",
     "output_type": "stream",
     "text": [
      "Hello,Python\n",
      "It is a \"dog\"!\n"
     ]
    }
   ],
   "source": [
    "#单引号\n",
    "c1='Hello,Python'\n",
    "print (c1)\n",
    "c2='It is a \"dog\"!'\n",
    "print (c2)"
   ]
  },
  {
   "cell_type": "code",
   "execution_count": 7,
   "metadata": {},
   "outputs": [
    {
     "data": {
      "text/plain": [
       "'HELLO,PYTHON'"
      ]
     },
     "execution_count": 7,
     "metadata": {},
     "output_type": "execute_result"
    }
   ],
   "source": [
    "c1.upper()"
   ]
  },
  {
   "cell_type": "code",
   "execution_count": 8,
   "metadata": {},
   "outputs": [
    {
     "data": {
      "text/plain": [
       "'H'"
      ]
     },
     "execution_count": 8,
     "metadata": {},
     "output_type": "execute_result"
    }
   ],
   "source": [
    "c1[0]  #获取第一个字母"
   ]
  },
  {
   "cell_type": "code",
   "execution_count": 9,
   "metadata": {},
   "outputs": [
    {
     "ename": "TypeError",
     "evalue": "'str' object does not support item assignment",
     "output_type": "error",
     "traceback": [
      "\u001b[1;31m---------------------------------------------------------------------------\u001b[0m",
      "\u001b[1;31mTypeError\u001b[0m                                 Traceback (most recent call last)",
      "\u001b[1;32m<ipython-input-9-c0f11db241b6>\u001b[0m in \u001b[0;36m<module>\u001b[1;34m()\u001b[0m\n\u001b[1;32m----> 1\u001b[1;33m \u001b[0mc1\u001b[0m\u001b[1;33m[\u001b[0m\u001b[1;36m0\u001b[0m\u001b[1;33m]\u001b[0m\u001b[1;33m=\u001b[0m\u001b[1;34m'a'\u001b[0m\u001b[1;33m\u001b[0m\u001b[0m\n\u001b[0m",
      "\u001b[1;31mTypeError\u001b[0m: 'str' object does not support item assignment"
     ]
    }
   ],
   "source": [
    "c1[0]='a'"
   ]
  },
  {
   "cell_type": "code",
   "execution_count": 10,
   "metadata": {},
   "outputs": [
    {
     "name": "stdout",
     "output_type": "stream",
     "text": [
      "Hello,Python\n",
      "It is a dog!\n",
      "这\n",
      "是\n",
      "Python量化投资\n"
     ]
    }
   ],
   "source": [
    "#双引号\n",
    "c1=\"Hello,Python\"\n",
    "print (c1)\n",
    "c2=\"It is a dog!\"\n",
    "print (c2)\n",
    "#三引号\n",
    "c3=\"\"\"这\n",
    "是\n",
    "Python量化投资\"\"\"\n",
    "print (c3)"
   ]
  },
  {
   "cell_type": "code",
   "execution_count": 11,
   "metadata": {},
   "outputs": [
    {
     "name": "stdout",
     "output_type": "stream",
     "text": [
      "It's a dog!\n",
      "hello boy\n",
      "hello boy\n"
     ]
    }
   ],
   "source": [
    "#转义符\n",
    "print ('It\\'s a dog!')\n",
    "print (\"hello boy\\nhello boy\")"
   ]
  },
  {
   "cell_type": "code",
   "execution_count": 12,
   "metadata": {},
   "outputs": [
    {
     "name": "stdout",
     "output_type": "stream",
     "text": [
      "hello boy\n",
      "hello boy\n",
      "hello boy\\nhello boy\n"
     ]
    }
   ],
   "source": [
    "#自然字符串\n",
    "print (\"hello boy\\nhello boy\")\n",
    "print (r\"hello boy\\nhello boy\")"
   ]
  },
  {
   "cell_type": "code",
   "execution_count": 1,
   "metadata": {},
   "outputs": [
    {
     "name": "stdout",
     "output_type": "stream",
     "text": [
      "我爱Python\n",
      "我爱Python\n",
      "我爱Python\n",
      "我爱Python\n",
      "我爱Python\n",
      "我爱Python\n",
      "我爱Python\n",
      "\n"
     ]
    }
   ],
   "source": [
    "#字符串的重复\n",
    "print (\"我爱Python\\n\"*7)"
   ]
  },
  {
   "cell_type": "code",
   "execution_count": 14,
   "metadata": {},
   "outputs": [
    {
     "name": "stdout",
     "output_type": "stream",
     "text": [
      "w\n",
      "o wa ngxiaochuan xia n uan wangxiaochuanw\n"
     ]
    }
   ],
   "source": [
    "#子字符串\n",
    "#索引运算符从0开始索引\n",
    "#切片运算符[a:b]是指从第a下标开始到第b-1下标。同样第一位的下标为0，“包前不包后”\n",
    "c1=u\"wangxiaochuan\"\n",
    "c2=c1[0]\n",
    "c3=c1[7]\n",
    "c4=c1[:2]\n",
    "c5=c1[2:]\n",
    "c6=c1[4:7]\n",
    "c7=c1[-1] \n",
    "c8=c1[-3:]\n",
    "cuts=[2,4,6]\n",
    "c9=c1+c2\n",
    "print (c2)\n",
    "print (c3, c4, c5, c6,c7,c8,c9)"
   ]
  },
  {
   "cell_type": "code",
   "execution_count": 15,
   "metadata": {},
   "outputs": [
    {
     "name": "stdout",
     "output_type": "stream",
     "text": [
      "3\n",
      "3\n",
      "小李\n"
     ]
    }
   ],
   "source": [
    "#列表\n",
    "students=[\"小明\",\"小华\",\"小李\",\"小娟\",\"小云\",3]\n",
    "print (students[len(students)-1])\n",
    "print (students[-1])\n",
    "print (students[2])"
   ]
  },
  {
   "cell_type": "code",
   "execution_count": 16,
   "metadata": {},
   "outputs": [
    {
     "name": "stdout",
     "output_type": "stream",
     "text": [
      "小娟\n",
      "小月\n",
      "小楠\n",
      "19978\n"
     ]
    }
   ],
   "source": [
    "#列表元素支持修改\n",
    "students=[\"小明\",\"小华\",\"小李\",\"小娟\",\"小云\",3]\n",
    "print (students[3])\n",
    "students[3]=\"小月\"\n",
    "print (students[3])\n",
    "students[5]=\"小楠\"\n",
    "print (students[5])\n",
    "students[5]=19978\n",
    "print (students[5])"
   ]
  },
  {
   "cell_type": "code",
   "execution_count": 17,
   "metadata": {},
   "outputs": [
    {
     "name": "stdout",
     "output_type": "stream",
     "text": [
      "小军\n"
     ]
    }
   ],
   "source": [
    "#元组\n",
    "students=(\"小明\",\"小军\",\"小强\",\"小武\",\"小龙\")\n",
    "print (students[1])"
   ]
  },
  {
   "cell_type": "code",
   "execution_count": 18,
   "metadata": {},
   "outputs": [
    {
     "ename": "TypeError",
     "evalue": "'tuple' object does not support item assignment",
     "output_type": "error",
     "traceback": [
      "\u001b[1;31m---------------------------------------------------------------------------\u001b[0m",
      "\u001b[1;31mTypeError\u001b[0m                                 Traceback (most recent call last)",
      "\u001b[1;32m<ipython-input-18-e8b2ee4ae754>\u001b[0m in \u001b[0;36m<module>\u001b[1;34m()\u001b[0m\n\u001b[0;32m      2\u001b[0m \u001b[0mstudents\u001b[0m\u001b[1;33m=\u001b[0m\u001b[1;33m(\u001b[0m\u001b[1;34m\"小明\"\u001b[0m\u001b[1;33m,\u001b[0m\u001b[1;34m\"小军\"\u001b[0m\u001b[1;33m,\u001b[0m\u001b[1;34m\"小强\"\u001b[0m\u001b[1;33m,\u001b[0m\u001b[1;34m\"小武\"\u001b[0m\u001b[1;33m,\u001b[0m\u001b[1;34m\"小龙\"\u001b[0m\u001b[1;33m)\u001b[0m\u001b[1;33m\u001b[0m\u001b[0m\n\u001b[0;32m      3\u001b[0m \u001b[1;33m\u001b[0m\u001b[0m\n\u001b[1;32m----> 4\u001b[1;33m \u001b[0mstudents\u001b[0m\u001b[1;33m[\u001b[0m\u001b[1;36m1\u001b[0m\u001b[1;33m]\u001b[0m\u001b[1;33m=\u001b[0m\u001b[1;34m\"小云\"\u001b[0m\u001b[1;33m\u001b[0m\u001b[0m\n\u001b[0m\u001b[0;32m      5\u001b[0m \u001b[0mprint\u001b[0m \u001b[1;33m(\u001b[0m\u001b[0mstudents\u001b[0m\u001b[1;33m[\u001b[0m\u001b[1;36m1\u001b[0m\u001b[1;33m]\u001b[0m\u001b[1;33m)\u001b[0m\u001b[1;33m\u001b[0m\u001b[0m\n",
      "\u001b[1;31mTypeError\u001b[0m: 'tuple' object does not support item assignment"
     ]
    }
   ],
   "source": [
    "#元组\n",
    "students=(\"小明\",\"小军\",\"小强\",\"小武\",\"小龙\")\n",
    "\n",
    "students[1]=\"小云\"\n",
    "print (students[1])"
   ]
  },
  {
   "cell_type": "code",
   "execution_count": 19,
   "metadata": {},
   "outputs": [
    {
     "data": {
      "text/plain": [
       "{1, 2, 3, 4}"
      ]
     },
     "execution_count": 19,
     "metadata": {},
     "output_type": "execute_result"
    }
   ],
   "source": [
    "a=[1,2,3,4]\n",
    "set(a)"
   ]
  },
  {
   "cell_type": "code",
   "execution_count": 20,
   "metadata": {},
   "outputs": [
    {
     "name": "stdout",
     "output_type": "stream",
     "text": [
      "{'a', 'n', 'm', 'c', 's', 'g', 'b'}\n",
      "{'c', 'm'}\n",
      "{'a', 'n', 'm', 'c', 's', 'g', 'b'}\n",
      "{'d', 'a', 'n', 'f', 'm', 'c', 's', 'g', 'b'}\n",
      "{'f', 'd'}\n",
      "{'a', 'n', 'm', 'c', 's', 'g', 'b'}\n"
     ]
    }
   ],
   "source": [
    "a=set(\"abcnmaaaaggsng\")\n",
    "print (a)\n",
    "b=set(\"cdfm\")\n",
    "#交集\n",
    "x=a&b \n",
    "print (x)\n",
    "print (a)\n",
    "#并集\n",
    "y=a|b\n",
    "print (y)\n",
    "#差集\n",
    "z=b-a\n",
    "print (z)\n",
    "#去除重复元素\n",
    "new=set(a)\n",
    "print (new)"
   ]
  },
  {
   "cell_type": "code",
   "execution_count": 21,
   "metadata": {},
   "outputs": [
    {
     "name": "stdout",
     "output_type": "stream",
     "text": [
      "山东\n",
      "王小川\n",
      "游泳\n"
     ]
    }
   ],
   "source": [
    "#字典\n",
    "k={\"姓名\":\"王小川\",\"籍贯\":\"山东\"}\n",
    "print (k[\"籍贯\"])\n",
    "#添加字典里面的项目\n",
    "k[\"爱好\"]=\"游泳\"\n",
    "print (k[\"姓名\"])\n",
    "print (k[\"爱好\"])"
   ]
  },
  {
   "cell_type": "code",
   "execution_count": 22,
   "metadata": {},
   "outputs": [
    {
     "name": "stdout",
     "output_type": "stream",
     "text": [
      "['False', 'None', 'True', 'and', 'as', 'assert', 'break', 'class', 'continue', 'def', 'del', 'elif', 'else', 'except', 'finally', 'for', 'from', 'global', 'if', 'import', 'in', 'is', 'lambda', 'nonlocal', 'not', 'or', 'pass', 'raise', 'return', 'try', 'while', 'with', 'yield']\n"
     ]
    }
   ],
   "source": [
    "#常用关键字\n",
    "#查看一下关键字有哪些\n",
    "import keyword\n",
    "print (keyword.kwlist)"
   ]
  },
  {
   "cell_type": "code",
   "execution_count": 23,
   "metadata": {},
   "outputs": [
    {
     "name": "stdout",
     "output_type": "stream",
     "text": [
      "ABC\n",
      "Abc\n"
     ]
    }
   ],
   "source": [
    "a='abc'\n",
    "print (a.upper())\n",
    "print  (a.title())"
   ]
  },
  {
   "cell_type": "code",
   "execution_count": 24,
   "metadata": {},
   "outputs": [
    {
     "name": "stdout",
     "output_type": "stream",
     "text": [
      "abc\n",
      "789\n",
      "777\n",
      "abc\n",
      "789\n",
      "777\n",
      "我是帅哥\n",
      "王老师很帅\n",
      "这是Python教程！\n"
     ]
    }
   ],
   "source": [
    "#逻辑行与物理行\n",
    "#以下是3个物理行\n",
    "print (\"abc\")\n",
    "print (\"789\")\n",
    "print (\"777\")\n",
    "#以下是1个物理行，3个逻辑行\n",
    "print (\"abc\");print (\"789\");print (\"777\")\n",
    "#以下是1个逻辑行，3个物理行\n",
    "print ('''我是帅哥\n",
    "王老师很帅\n",
    "这是Python教程！''')\n"
   ]
  },
  {
   "cell_type": "code",
   "execution_count": 25,
   "metadata": {},
   "outputs": [
    {
     "ename": "IndentationError",
     "evalue": "unexpected indent (<ipython-input-25-b88458dfe203>, line 2)",
     "output_type": "error",
     "traceback": [
      "\u001b[1;36m  File \u001b[1;32m\"<ipython-input-25-b88458dfe203>\"\u001b[1;36m, line \u001b[1;32m2\u001b[0m\n\u001b[1;33m    print ('123')\u001b[0m\n\u001b[1;37m    ^\u001b[0m\n\u001b[1;31mIndentationError\u001b[0m\u001b[1;31m:\u001b[0m unexpected indent\n"
     ]
    }
   ],
   "source": [
    "#什么是缩进\n",
    " print ('123')"
   ]
  },
  {
   "cell_type": "code",
   "execution_count": 2,
   "metadata": {},
   "outputs": [
    {
     "name": "stdout",
     "output_type": "stream",
     "text": [
      "hello\n",
      "0\n",
      "1\n",
      "2\n",
      "3\n",
      "4\n",
      "5\n",
      "6\n"
     ]
    }
   ],
   "source": [
    "#如何缩进\n",
    "#一般情况下，行首应该不留空白\n",
    "import sys\n",
    "#缩进的方法有两种，可以按空格，也可以按tab键\n",
    "#if语句的缩进方法\n",
    "a=7\n",
    "if a>0:\n",
    "     print (\"hello\")\n",
    "#while语句的缩进方法\n",
    "a=0\n",
    "while a<7:\n",
    "    print (a)  # 思考下a为什么不包含7\n",
    "    a+=1\n",
    "a=100"
   ]
  },
  {
   "cell_type": "markdown",
   "metadata": {},
   "source": [
    "# 2.3 Python运算符与表达式"
   ]
  },
  {
   "cell_type": "code",
   "execution_count": 26,
   "metadata": {},
   "outputs": [
    {
     "name": "stdout",
     "output_type": "stream",
     "text": [
      "15\n"
     ]
    }
   ],
   "source": [
    "#\"+\":两个对象相加\n",
    "#两个数字相加\n",
    "a=7+8\n",
    "print (a)"
   ]
  },
  {
   "cell_type": "code",
   "execution_count": 27,
   "metadata": {},
   "outputs": [
    {
     "name": "stdout",
     "output_type": "stream",
     "text": [
      "GOOD JOB!\n"
     ]
    }
   ],
   "source": [
    "#两个字符串相加\n",
    "b=\"GOOD\"+\" JOB!\"\n",
    "print (b)"
   ]
  },
  {
   "cell_type": "code",
   "execution_count": 28,
   "metadata": {},
   "outputs": [
    {
     "name": "stdout",
     "output_type": "stream",
     "text": [
      "-7\n",
      "8\n",
      "18\n"
     ]
    }
   ],
   "source": [
    "#\"-\":取一个数字的相反数或者实现两个数字相减\n",
    "a=-7\n",
    "print (a)\n",
    "b=-(-8)\n",
    "print (b)\n",
    "c=19-1\n",
    "print (c)"
   ]
  },
  {
   "cell_type": "code",
   "execution_count": 29,
   "metadata": {},
   "outputs": [
    {
     "name": "stdout",
     "output_type": "stream",
     "text": [
      "28\n",
      "hellohellohello\n",
      "hello\n",
      "hello\n",
      "hello\n",
      "\n"
     ]
    }
   ],
   "source": [
    "#\"*\":两个数相乘或者字符串重复\n",
    "a=4*7\n",
    "print (a)\n",
    "b=\"hello\"*3\n",
    "print (b)\n",
    "b=\"hello\\n\"*3\n",
    "print (b)"
   ]
  },
  {
   "cell_type": "code",
   "execution_count": 30,
   "metadata": {},
   "outputs": [
    {
     "name": "stdout",
     "output_type": "stream",
     "text": [
      "3.5\n",
      "3.5\n",
      "3.5\n"
     ]
    }
   ],
   "source": [
    "#\"/\":两个数字相除\n",
    "a=7/2\n",
    "print (a)\n",
    "b=7.0/2\n",
    "c=7/2.0\n",
    "print (b)\n",
    "print (c)"
   ]
  },
  {
   "cell_type": "code",
   "execution_count": 31,
   "metadata": {},
   "outputs": [
    {
     "name": "stdout",
     "output_type": "stream",
     "text": [
      "3.5\n"
     ]
    }
   ],
   "source": [
    "from __future__ import division  \n",
    "a=7/2\n",
    "print (a)"
   ]
  },
  {
   "cell_type": "code",
   "execution_count": 32,
   "metadata": {},
   "outputs": [
    {
     "name": "stdout",
     "output_type": "stream",
     "text": [
      "8\n"
     ]
    }
   ],
   "source": [
    "#\"**\":求幂运算\n",
    "a=2**3   #相当于2的3次幂，就是2*2*2\n",
    "print (a)"
   ]
  },
  {
   "cell_type": "code",
   "execution_count": 33,
   "metadata": {},
   "outputs": [
    {
     "name": "stdout",
     "output_type": "stream",
     "text": [
      "3\n"
     ]
    }
   ],
   "source": [
    "#\"//\":除法运算，然后返回其商的整数部分，舍掉余数\n",
    "a=10//3\n",
    "print (a)"
   ]
  },
  {
   "cell_type": "code",
   "execution_count": 34,
   "metadata": {},
   "outputs": [
    {
     "name": "stdout",
     "output_type": "stream",
     "text": [
      "1\n",
      "0\n"
     ]
    }
   ],
   "source": [
    "#\"%\":除法运算，然后返回其商的余数部分，舍掉商\n",
    "a=10%3\n",
    "print (a)\n",
    "b=10%1  #没有余数的时候返回什么？\n",
    "print (b)"
   ]
  },
  {
   "cell_type": "code",
   "execution_count": 3,
   "metadata": {},
   "outputs": [
    {
     "name": "stdout",
     "output_type": "stream",
     "text": [
      "True\n",
      "False\n"
     ]
    },
    {
     "data": {
      "text/plain": [
       "bool"
      ]
     },
     "execution_count": 3,
     "metadata": {},
     "output_type": "execute_result"
    }
   ],
   "source": [
    "#\"<\"：小于符号，返回一个bool值\n",
    "a=3<7\n",
    "print (a)\n",
    "b=3<3\n",
    "print (b)\n",
    "type(a)"
   ]
  },
  {
   "cell_type": "code",
   "execution_count": 36,
   "metadata": {},
   "outputs": [
    {
     "name": "stdout",
     "output_type": "stream",
     "text": [
      "False\n",
      "True\n"
     ]
    }
   ],
   "source": [
    "#\">\":大于符号，返回一个bool值\n",
    "a=3>7\n",
    "print (a)\n",
    "b=3>1\n",
    "print (b)\n"
   ]
  },
  {
   "cell_type": "code",
   "execution_count": 37,
   "metadata": {},
   "outputs": [
    {
     "name": "stdout",
     "output_type": "stream",
     "text": [
      "True\n",
      "False\n"
     ]
    }
   ],
   "source": [
    "#\"!=\":不等于符号，同样返回一个bool值\n",
    "a=2!=3\n",
    "print (a)\n",
    "b=2!=2\n",
    "print (b)"
   ]
  },
  {
   "cell_type": "code",
   "execution_count": 38,
   "metadata": {},
   "outputs": [
    {
     "name": "stdout",
     "output_type": "stream",
     "text": [
      "True\n",
      "False\n",
      "False\n",
      "True\n"
     ]
    }
   ],
   "source": [
    "#\"<=\":小于等于符号，比较运算，小于或等于，返回一个bool值\n",
    "a=3<=3\n",
    "print (a)\n",
    "b=4<=3\n",
    "print (b)\n",
    "#\">=\"\n",
    "a=1>=3\n",
    "print (a)\n",
    "b=4>=3\n",
    "print (b)"
   ]
  },
  {
   "cell_type": "code",
   "execution_count": 39,
   "metadata": {},
   "outputs": [
    {
     "name": "stdout",
     "output_type": "stream",
     "text": [
      "False\n",
      "True\n"
     ]
    }
   ],
   "source": [
    "#\"==\":比较两个对象是否相等\n",
    "a=12==13\n",
    "print (a)\n",
    "b=\"hello\"==\"hello\"\n",
    "print (b)"
   ]
  },
  {
   "cell_type": "code",
   "execution_count": 40,
   "metadata": {},
   "outputs": [
    {
     "data": {
      "text/plain": [
       "True"
      ]
     },
     "execution_count": 40,
     "metadata": {},
     "output_type": "execute_result"
    }
   ],
   "source": [
    "a=''\n",
    "not a\n"
   ]
  },
  {
   "cell_type": "code",
   "execution_count": 41,
   "metadata": {},
   "outputs": [
    {
     "name": "stdout",
     "output_type": "stream",
     "text": [
      "False\n",
      "True\n"
     ]
    }
   ],
   "source": [
    "#not:逻辑非\n",
    "a=True\n",
    "b=not a\n",
    "print (b)\n",
    "c=False\n",
    "print (not c)\n"
   ]
  },
  {
   "cell_type": "code",
   "execution_count": 42,
   "metadata": {},
   "outputs": [
    {
     "name": "stdout",
     "output_type": "stream",
     "text": [
      "True\n"
     ]
    }
   ],
   "source": [
    "#and:逻辑与\n",
    "'''\n",
    "True and True等于True\n",
    "True and False等于False\n",
    "False and True等于False\n",
    "'''\n",
    "print (True and True)\n"
   ]
  },
  {
   "cell_type": "code",
   "execution_count": 43,
   "metadata": {},
   "outputs": [
    {
     "name": "stdout",
     "output_type": "stream",
     "text": [
      "True\n"
     ]
    }
   ],
   "source": [
    "#or:逻辑或\n",
    "'''\n",
    "True or True等于True\n",
    "True or False等于True\n",
    "False or False等于False\n",
    "'''\n",
    "print (True or False)\n"
   ]
  },
  {
   "cell_type": "markdown",
   "metadata": {},
   "source": [
    "# 2.4  Python 中的控制流"
   ]
  },
  {
   "cell_type": "code",
   "execution_count": 44,
   "metadata": {},
   "outputs": [
    {
     "name": "stdout",
     "output_type": "stream",
     "text": [
      "1\n",
      "2\n",
      "1\n",
      "2\n"
     ]
    }
   ],
   "source": [
    "i=1\n",
    "print (i)\n",
    "i=i+1\n",
    "print (i)\n",
    "\n",
    "i=1\n",
    "print (i)\n",
    "i=i+1\n",
    "print (i)\n"
   ]
  },
  {
   "cell_type": "code",
   "execution_count": 45,
   "metadata": {},
   "outputs": [
    {
     "name": "stdout",
     "output_type": "stream",
     "text": [
      "1\n",
      "2\n",
      "1\n",
      "2\n"
     ]
    }
   ],
   "source": [
    "for k in range(0,2):\n",
    "    i=1\n",
    "    print (i)\n",
    "    i=i+1\n",
    "    print (i)\n"
   ]
  },
  {
   "cell_type": "code",
   "execution_count": 46,
   "metadata": {},
   "outputs": [
    {
     "name": "stdout",
     "output_type": "stream",
     "text": [
      "badminton\n"
     ]
    }
   ],
   "source": [
    "weather=\"rainy\"\n",
    "if weather==\"sunny\":\n",
    "    print (\"basketball\")\n",
    "else:\n",
    "    print (\"badminton\")\n"
   ]
  },
  {
   "cell_type": "code",
   "execution_count": 47,
   "metadata": {},
   "outputs": [
    {
     "name": "stdout",
     "output_type": "stream",
     "text": [
      "1\n",
      "0\n",
      "2\n"
     ]
    }
   ],
   "source": [
    "a=1\n",
    "print (a)\n",
    "a=a-1\n",
    "print (a)\n",
    "a=a+2\n",
    "print (a)\n"
   ]
  },
  {
   "cell_type": "code",
   "execution_count": 48,
   "metadata": {},
   "outputs": [
    {
     "name": "stdout",
     "output_type": "stream",
     "text": [
      "He\n"
     ]
    }
   ],
   "source": [
    "a=0\n",
    "if a==1:\n",
    "    print (\"She\")\n",
    "else:\n",
    "    print (\"He\")\n"
   ]
  },
  {
   "cell_type": "code",
   "execution_count": 49,
   "metadata": {},
   "outputs": [
    {
     "name": "stdout",
     "output_type": "stream",
     "text": [
      "hello world\n",
      "0\n",
      "hello world\n",
      "1\n",
      "hello world\n",
      "2\n",
      "hello world\n",
      "3\n",
      "hello world\n",
      "4\n"
     ]
    }
   ],
   "source": [
    "for i in range(5):\n",
    "    print (\"hello world\")\n",
    "    print (i)"
   ]
  },
  {
   "cell_type": "code",
   "execution_count": 50,
   "metadata": {},
   "outputs": [
    {
     "name": "stdout",
     "output_type": "stream",
     "text": [
      "hello world\n",
      "5\n",
      "hello world\n",
      "4\n",
      "hello world\n",
      "3\n",
      "hello world\n",
      "2\n",
      "hello world\n",
      "1\n"
     ]
    }
   ],
   "source": [
    "i=5\n",
    "while i:\n",
    "    print (\"hello world\")\n",
    "    print (i)\n",
    "    i=i-1\n"
   ]
  },
  {
   "cell_type": "code",
   "execution_count": 51,
   "metadata": {},
   "outputs": [
    {
     "name": "stdout",
     "output_type": "stream",
     "text": [
      "hello world\n"
     ]
    }
   ],
   "source": [
    "#在一种情况下的if用法\n",
    "a=8\n",
    "if a==8:                         #这里的等号注意是==，而非=\n",
    "    print (\"hello world\")\n"
   ]
  },
  {
   "cell_type": "code",
   "execution_count": 52,
   "metadata": {},
   "outputs": [
    {
     "name": "stdout",
     "output_type": "stream",
     "text": [
      "hello world\n"
     ]
    }
   ],
   "source": [
    "#在两种选择情况下的if用法\n",
    "a=9\n",
    "if a==9:\n",
    "    print (\"hello world\")\n",
    "else:\n",
    "    print (\"Null\")\n"
   ]
  },
  {
   "cell_type": "code",
   "execution_count": 53,
   "metadata": {},
   "outputs": [
    {
     "name": "stdout",
     "output_type": "stream",
     "text": [
      "hello world\n"
     ]
    }
   ],
   "source": [
    "#在三种选择情况下的if用法\n",
    "a=10\n",
    "if a==10:\n",
    "    print (\"hello world\")\n",
    "elif a>8:\n",
    "    print (\"hello\")\n",
    "elif a>6:\n",
    "    print (\"world\")\n",
    "else:\n",
    "    print (\"Null\")\n"
   ]
  },
  {
   "cell_type": "code",
   "execution_count": 54,
   "metadata": {},
   "outputs": [
    {
     "name": "stdout",
     "output_type": "stream",
     "text": [
      "1\n",
      "2\n",
      "3\n",
      "4\n",
      "5\n"
     ]
    }
   ],
   "source": [
    "for i in [1,2,3,4,5]:\n",
    "    print (i)\n"
   ]
  },
  {
   "cell_type": "code",
   "execution_count": 55,
   "metadata": {},
   "outputs": [
    {
     "name": "stdout",
     "output_type": "stream",
     "text": [
      "hello\n",
      "1\n",
      "hello\n",
      "4\n",
      "hello\n",
      "7\n"
     ]
    }
   ],
   "source": [
    "for i in range(1,10,3):\n",
    "    print (\"hello\")\n",
    "    print (i)\n"
   ]
  },
  {
   "cell_type": "code",
   "execution_count": 56,
   "metadata": {
    "scrolled": true
   },
   "outputs": [
    {
     "name": "stdout",
     "output_type": "stream",
     "text": [
      "你\n",
      "好\n",
      "世\n",
      "界\n",
      "元组：你好\n",
      "元组：世界\n",
      "列表：你好\n",
      "列表：世界\n",
      "first\n",
      "second\n"
     ]
    }
   ],
   "source": [
    "char=u\"你好世界\"       #U代表这是Unicode编码\n",
    "tem=(\"元组：你好\",\"元组：世界\")\n",
    "list=[\"列表：你好\",\"列表：世界\"]\n",
    "dict={\"first\":\"字典：你好\",\"second\":\"字典：世界\"}\n",
    "for i in char:\n",
    "    print (i)\n",
    "for i in tem:\n",
    "    print (i)\n",
    "for i in list:\n",
    "    print (i)\n",
    "for i in dict:\n",
    "    print (i)\n"
   ]
  },
  {
   "cell_type": "code",
   "execution_count": 5,
   "metadata": {},
   "outputs": [],
   "source": [
    "# a=True\n",
    "# while a:\n",
    "#     print (\"hello world\")\n"
   ]
  },
  {
   "cell_type": "code",
   "execution_count": 58,
   "metadata": {},
   "outputs": [
    {
     "name": "stdout",
     "output_type": "stream",
     "text": [
      "Null\n"
     ]
    }
   ],
   "source": [
    "b=False\n",
    "while b:\n",
    "        print (\"hello world\")\n",
    "else:\n",
    "        print (\"Null\")\n"
   ]
  },
  {
   "cell_type": "code",
   "execution_count": 59,
   "metadata": {},
   "outputs": [
    {
     "name": "stdout",
     "output_type": "stream",
     "text": [
      "1\n",
      "2\n",
      "3\n",
      "hello\n"
     ]
    }
   ],
   "source": [
    "a=1\n",
    "while a<5:\n",
    "        if a<=3:\n",
    "            print (a)\n",
    "        else:\n",
    "            print (\"hello\")\n",
    "        a=a+1\n"
   ]
  },
  {
   "cell_type": "code",
   "execution_count": 60,
   "metadata": {},
   "outputs": [
    {
     "name": "stdout",
     "output_type": "stream",
     "text": [
      "1\n",
      "hello world\n",
      "2\n",
      "hello world\n"
     ]
    }
   ],
   "source": [
    "a=1\n",
    "while a:\n",
    "    print (a)\n",
    "    print (\"hello world\")\n",
    "    a=a+1\n",
    "    if a==3:\n",
    "        break\n"
   ]
  },
  {
   "cell_type": "code",
   "execution_count": 61,
   "metadata": {},
   "outputs": [
    {
     "name": "stdout",
     "output_type": "stream",
     "text": [
      "5\n",
      "hello world\n",
      "6\n",
      "hello world\n",
      "7\n",
      "hello world\n"
     ]
    }
   ],
   "source": [
    "for i in range(5,9):\n",
    "    print (i)\n",
    "    print (\"hello world\")\n",
    "    if i>6:\n",
    "        break\n"
   ]
  },
  {
   "cell_type": "code",
   "execution_count": 62,
   "metadata": {},
   "outputs": [
    {
     "name": "stdout",
     "output_type": "stream",
     "text": [
      "6 1\n",
      "6 2\n",
      "7 1\n",
      "7 2\n",
      "8 1\n",
      "8 2\n",
      "9 1\n",
      "9 2\n"
     ]
    }
   ],
   "source": [
    "a=5\n",
    "while a<=8:\n",
    "    a=a+1\n",
    "    for i in range(1,3):\n",
    "        print (a,i)\n",
    "        if i==2:\n",
    "            break\n"
   ]
  },
  {
   "cell_type": "code",
   "execution_count": 63,
   "metadata": {},
   "outputs": [
    {
     "name": "stdout",
     "output_type": "stream",
     "text": [
      "1\n",
      "3\n",
      "5\n",
      "7\n",
      "9\n"
     ]
    }
   ],
   "source": [
    "n = 0\n",
    "while n < 10:\n",
    "    n = n + 1\n",
    "    if n % 2 == 0:      # 如果n是偶数，则执行continue语句\n",
    "        continue# continue语句会直接继续下一轮循环，后续的print()语句不会执行\n",
    "    print (n)\n"
   ]
  },
  {
   "cell_type": "code",
   "execution_count": 64,
   "metadata": {},
   "outputs": [
    {
     "name": "stdout",
     "output_type": "stream",
     "text": [
      "1\n",
      "3\n",
      "5\n",
      "7\n",
      "9\n"
     ]
    }
   ],
   "source": [
    "for n in range(1,10):\n",
    "    if n%2==0:\n",
    "        continue\n",
    "    print (n)\n"
   ]
  },
  {
   "cell_type": "code",
   "execution_count": 65,
   "metadata": {},
   "outputs": [
    {
     "name": "stdout",
     "output_type": "stream",
     "text": [
      "7\n",
      "8\n",
      "7\n",
      "8\n",
      "7\n",
      "8\n",
      "7\n",
      "8\n",
      "7\n",
      "8\n"
     ]
    }
   ],
   "source": [
    "a=1\n",
    "while a<7:\n",
    "    a=a+1\n",
    "    if a==4:\n",
    "        continue \n",
    "    for i in range(7,10):\n",
    "        if i==9:\n",
    "            continue\n",
    "        print (i)\n"
   ]
  },
  {
   "cell_type": "code",
   "execution_count": 66,
   "metadata": {},
   "outputs": [
    {
     "name": "stdout",
     "output_type": "stream",
     "text": [
      "10\n",
      "11\n",
      "12\n",
      "13\n",
      "14\n",
      "16\n",
      "17\n",
      "18\n"
     ]
    }
   ],
   "source": [
    "for i in range(10,19):\n",
    "    if i==15:\n",
    "        continue\n",
    "    print (i)\n"
   ]
  },
  {
   "cell_type": "code",
   "execution_count": 67,
   "metadata": {},
   "outputs": [
    {
     "name": "stdout",
     "output_type": "stream",
     "text": [
      "10\n",
      "11\n",
      "12\n",
      "13\n",
      "14\n"
     ]
    }
   ],
   "source": [
    "for i in range(10,19):\n",
    "    if i==15:\n",
    "        break\n",
    "    print (i)\n"
   ]
  },
  {
   "cell_type": "markdown",
   "metadata": {},
   "source": [
    "# 2.5 Python函数"
   ]
  },
  {
   "cell_type": "code",
   "execution_count": 68,
   "metadata": {},
   "outputs": [
    {
     "name": "stdout",
     "output_type": "stream",
     "text": [
      "3\n"
     ]
    }
   ],
   "source": [
    "a=\"ace\"\n",
    "print (len(a))\n"
   ]
  },
  {
   "cell_type": "code",
   "execution_count": 69,
   "metadata": {},
   "outputs": [
    {
     "name": "stdout",
     "output_type": "stream",
     "text": [
      "['s', 'uden', ',my xxxx']\n"
     ]
    }
   ],
   "source": [
    "a=\"student,my xxxx\"\n",
    "b=a.split('t')\n",
    "print (b)\n"
   ]
  },
  {
   "cell_type": "code",
   "execution_count": 70,
   "metadata": {},
   "outputs": [
    {
     "data": {
      "text/plain": [
       "'STUDENT,MY XXXX'"
      ]
     },
     "execution_count": 70,
     "metadata": {},
     "output_type": "execute_result"
    }
   ],
   "source": [
    "a.upper()"
   ]
  },
  {
   "cell_type": "code",
   "execution_count": 71,
   "metadata": {
    "collapsed": true
   },
   "outputs": [],
   "source": [
    "def function1():\n",
    "    a=9\n",
    "    a+=8\n",
    "    print (a)\n"
   ]
  },
  {
   "cell_type": "code",
   "execution_count": 72,
   "metadata": {},
   "outputs": [
    {
     "name": "stdout",
     "output_type": "stream",
     "text": [
      "17\n"
     ]
    }
   ],
   "source": [
    "function1()"
   ]
  },
  {
   "cell_type": "code",
   "execution_count": 73,
   "metadata": {},
   "outputs": [
    {
     "name": "stdout",
     "output_type": "stream",
     "text": [
      "5\n"
     ]
    }
   ],
   "source": [
    "a=\"abcdm\"\n",
    "print (len(a))\n"
   ]
  },
  {
   "cell_type": "code",
   "execution_count": 74,
   "metadata": {
    "collapsed": true
   },
   "outputs": [],
   "source": [
    "def function(a,b):\n",
    "    if a>b:\n",
    "        print (a)\n",
    "    else:\n",
    "        print (b)\n"
   ]
  },
  {
   "cell_type": "code",
   "execution_count": 75,
   "metadata": {},
   "outputs": [
    {
     "name": "stdout",
     "output_type": "stream",
     "text": [
      "5\n"
     ]
    }
   ],
   "source": [
    "function(4,5)"
   ]
  },
  {
   "cell_type": "code",
   "execution_count": 76,
   "metadata": {},
   "outputs": [
    {
     "name": "stdout",
     "output_type": "stream",
     "text": [
      "a-b\n"
     ]
    }
   ],
   "source": [
    "def function1(a,b):\n",
    "    if a>b:\n",
    "        return 'a+b'\n",
    "    else:\n",
    "        return 'a-b'\n",
    "a=function1(1,3)\n",
    "print (a)\n"
   ]
  },
  {
   "cell_type": "code",
   "execution_count": 77,
   "metadata": {},
   "outputs": [
    {
     "name": "stdout",
     "output_type": "stream",
     "text": [
      "8\n"
     ]
    }
   ],
   "source": [
    "def function(a=1,b=0):\n",
    "    if a>b:\n",
    "        return a\n",
    "    else:\n",
    "        return b\n",
    "max=function(7,8)\n",
    "print (max)\n"
   ]
  },
  {
   "cell_type": "code",
   "execution_count": 78,
   "metadata": {},
   "outputs": [
    {
     "data": {
      "text/plain": [
       "1"
      ]
     },
     "execution_count": 78,
     "metadata": {},
     "output_type": "execute_result"
    }
   ],
   "source": [
    "function()"
   ]
  },
  {
   "cell_type": "code",
   "execution_count": 79,
   "metadata": {},
   "outputs": [
    {
     "name": "stdout",
     "output_type": "stream",
     "text": [
      "9\n",
      "1\n",
      "10\n"
     ]
    }
   ],
   "source": [
    "a=9\n",
    "b=10\n",
    "c=1\n",
    "def function(add=0,b=0,c=0):\n",
    "    print (add)\n",
    "    print (b)\n",
    "    print (c)\n",
    "function(a,c,b)\n"
   ]
  },
  {
   "cell_type": "code",
   "execution_count": 80,
   "metadata": {},
   "outputs": [
    {
     "name": "stdout",
     "output_type": "stream",
     "text": [
      "9\n",
      "10\n",
      "1\n"
     ]
    }
   ],
   "source": [
    "function(add=a,b=b,c=c)"
   ]
  },
  {
   "cell_type": "code",
   "execution_count": 81,
   "metadata": {},
   "outputs": [
    {
     "name": "stdout",
     "output_type": "stream",
     "text": [
      "8\n",
      "7\n",
      "0\n"
     ]
    }
   ],
   "source": [
    "function(b=7,add=8)"
   ]
  },
  {
   "cell_type": "code",
   "execution_count": 82,
   "metadata": {},
   "outputs": [
    {
     "name": "stdout",
     "output_type": "stream",
     "text": [
      "5\n",
      "3\n",
      "2\n"
     ]
    }
   ],
   "source": [
    "function(c=2,b=3,add=5)"
   ]
  },
  {
   "cell_type": "code",
   "execution_count": 83,
   "metadata": {},
   "outputs": [
    {
     "name": "stdout",
     "output_type": "stream",
     "text": [
      "1\n",
      "4\n",
      "2\n"
     ]
    }
   ],
   "source": [
    "function(b=4,c=2,add=1)"
   ]
  },
  {
   "cell_type": "code",
   "execution_count": 84,
   "metadata": {},
   "outputs": [
    {
     "name": "stdout",
     "output_type": "stream",
     "text": [
      "0\n",
      "0\n",
      "100\n"
     ]
    }
   ],
   "source": [
    "function(c=100)"
   ]
  },
  {
   "cell_type": "code",
   "execution_count": 85,
   "metadata": {},
   "outputs": [
    {
     "ename": "SyntaxError",
     "evalue": "positional argument follows keyword argument (<ipython-input-85-adb22511c393>, line 2)",
     "output_type": "error",
     "traceback": [
      "\u001b[1;36m  File \u001b[1;32m\"<ipython-input-85-adb22511c393>\"\u001b[1;36m, line \u001b[1;32m2\u001b[0m\n\u001b[1;33m    function(b=2,c=3,2)\u001b[0m\n\u001b[1;37m                    ^\u001b[0m\n\u001b[1;31mSyntaxError\u001b[0m\u001b[1;31m:\u001b[0m positional argument follows keyword argument\n"
     ]
    }
   ],
   "source": [
    "'''但是要注意，在顺序被打乱后必须使用关键字参数'''\n",
    "function(b=2,c=3,2)\n"
   ]
  },
  {
   "cell_type": "code",
   "execution_count": 86,
   "metadata": {},
   "outputs": [
    {
     "name": "stdout",
     "output_type": "stream",
     "text": [
      "10\n"
     ]
    }
   ],
   "source": [
    "i=10      #这里定义一个全局变量i\n",
    "print (i)\n"
   ]
  },
  {
   "cell_type": "code",
   "execution_count": 87,
   "metadata": {},
   "outputs": [
    {
     "name": "stdout",
     "output_type": "stream",
     "text": [
      "10\n"
     ]
    }
   ],
   "source": [
    "def func():\n",
    "    i=8 #给局部变量i赋值\n",
    "func()\n",
    "print (i)\n"
   ]
  },
  {
   "cell_type": "code",
   "execution_count": 88,
   "metadata": {},
   "outputs": [
    {
     "name": "stdout",
     "output_type": "stream",
     "text": [
      "7\n",
      "2\n"
     ]
    }
   ],
   "source": [
    "i=2  #给全局变量i赋值\n",
    "def func2(a):\n",
    "    i=7  #给局部变量i赋值\n",
    "    print (i)\n",
    "func2(1)\n",
    "print (i)\n"
   ]
  },
  {
   "cell_type": "code",
   "execution_count": 89,
   "metadata": {},
   "outputs": [
    {
     "name": "stdout",
     "output_type": "stream",
     "text": [
      "7\n"
     ]
    }
   ],
   "source": [
    "func2(i)"
   ]
  },
  {
   "cell_type": "code",
   "execution_count": 90,
   "metadata": {},
   "outputs": [
    {
     "name": "stdout",
     "output_type": "stream",
     "text": [
      "2\n"
     ]
    }
   ],
   "source": [
    "print (i)"
   ]
  },
  {
   "cell_type": "code",
   "execution_count": 91,
   "metadata": {},
   "outputs": [
    {
     "name": "stdout",
     "output_type": "stream",
     "text": [
      "None\n",
      "7\n"
     ]
    }
   ],
   "source": [
    "def func3():\n",
    "    global i\n",
    "    i=7\n",
    "a=func3()\n",
    "print (a)\n",
    "print (i)\n"
   ]
  },
  {
   "cell_type": "code",
   "execution_count": 92,
   "metadata": {},
   "outputs": [
    {
     "name": "stdout",
     "output_type": "stream",
     "text": [
      "7\n"
     ]
    }
   ],
   "source": [
    "i=7\n",
    "def func3 ():\n",
    "    i=1\n",
    "func3 ()                 #调用函数\n",
    "print (i)\n"
   ]
  },
  {
   "cell_type": "code",
   "execution_count": 93,
   "metadata": {},
   "outputs": [
    {
     "name": "stdout",
     "output_type": "stream",
     "text": [
      "7\n"
     ]
    }
   ],
   "source": [
    "def test():\n",
    "    i=7\n",
    "    return i\n",
    "print (test())\n"
   ]
  },
  {
   "cell_type": "code",
   "execution_count": 94,
   "metadata": {},
   "outputs": [
    {
     "name": "stdout",
     "output_type": "stream",
     "text": [
      "(4, 5, 20)\n"
     ]
    }
   ],
   "source": [
    "def test2(i,j):\n",
    "    k=i*j\n",
    "    return (i,j,k)\n",
    "a=test2(4,5)\n",
    "print (a)\n"
   ]
  },
  {
   "cell_type": "code",
   "execution_count": 95,
   "metadata": {},
   "outputs": [
    {
     "name": "stdout",
     "output_type": "stream",
     "text": [
      "4 5 20\n"
     ]
    }
   ],
   "source": [
    "def test2(i,j):\n",
    "    k=i*j\n",
    "    return i,j,k\n",
    "a,b,c = test2(4,5)\n",
    "print (a,b,c)\n"
   ]
  },
  {
   "cell_type": "code",
   "execution_count": 96,
   "metadata": {},
   "outputs": [
    {
     "name": "stdout",
     "output_type": "stream",
     "text": [
      "Help on function d in module __main__:\n",
      "\n",
      "d(i, j)\n",
      "    这个函数实现一个乘法运算。\n",
      "    函数会返回一个乘法运算的结果。\n",
      "\n"
     ]
    }
   ],
   "source": [
    "def d(i,j):\n",
    "    '''这个函数实现一个乘法运算。\n",
    "    函数会返回一个乘法运算的结果。'''\n",
    "    k=i*j\n",
    "    return k\n",
    "help(d)\n"
   ]
  },
  {
   "cell_type": "markdown",
   "metadata": {},
   "source": [
    "# 2.6 Python 模块"
   ]
  },
  {
   "cell_type": "code",
   "execution_count": 97,
   "metadata": {
    "collapsed": true
   },
   "outputs": [],
   "source": [
    "import pandas"
   ]
  },
  {
   "cell_type": "code",
   "execution_count": 98,
   "metadata": {
    "collapsed": true
   },
   "outputs": [],
   "source": [
    "import pandas as pd"
   ]
  },
  {
   "cell_type": "code",
   "execution_count": 99,
   "metadata": {
    "collapsed": true
   },
   "outputs": [],
   "source": [
    "from pandas import Series"
   ]
  },
  {
   "cell_type": "code",
   "execution_count": 100,
   "metadata": {
    "collapsed": true
   },
   "outputs": [],
   "source": [
    "import sys"
   ]
  },
  {
   "cell_type": "code",
   "execution_count": 101,
   "metadata": {},
   "outputs": [
    {
     "name": "stdout",
     "output_type": "stream",
     "text": [
      "C:\\Users\\hcquant\\Anaconda3\\lib\\site-packages\\ipykernel_launcher.py\n"
     ]
    }
   ],
   "source": [
    "print (sys.argv[0])"
   ]
  },
  {
   "cell_type": "code",
   "execution_count": 102,
   "metadata": {},
   "outputs": [
    {
     "data": {
      "text/plain": [
       "'utf-8'"
      ]
     },
     "execution_count": 102,
     "metadata": {},
     "output_type": "execute_result"
    }
   ],
   "source": [
    "sys.getdefaultencoding()"
   ]
  },
  {
   "cell_type": "code",
   "execution_count": 103,
   "metadata": {},
   "outputs": [
    {
     "data": {
      "text/html": [
       "<div>\n",
       "<style>\n",
       "    .dataframe thead tr:only-child th {\n",
       "        text-align: right;\n",
       "    }\n",
       "\n",
       "    .dataframe thead th {\n",
       "        text-align: left;\n",
       "    }\n",
       "\n",
       "    .dataframe tbody tr th {\n",
       "        vertical-align: top;\n",
       "    }\n",
       "</style>\n",
       "<table border=\"1\" class=\"dataframe\">\n",
       "  <thead>\n",
       "    <tr style=\"text-align: right;\">\n",
       "      <th></th>\n",
       "      <th>data1</th>\n",
       "      <th>key</th>\n",
       "    </tr>\n",
       "  </thead>\n",
       "  <tbody>\n",
       "    <tr>\n",
       "      <th>0</th>\n",
       "      <td>0</td>\n",
       "      <td>b</td>\n",
       "    </tr>\n",
       "    <tr>\n",
       "      <th>1</th>\n",
       "      <td>1</td>\n",
       "      <td>b</td>\n",
       "    </tr>\n",
       "  </tbody>\n",
       "</table>\n",
       "</div>"
      ],
      "text/plain": [
       "   data1 key\n",
       "0      0   b\n",
       "1      1   b"
      ]
     },
     "execution_count": 103,
     "metadata": {},
     "output_type": "execute_result"
    }
   ],
   "source": [
    "from pandas import DataFrame\n",
    "df1 = DataFrame({'key': ['b', 'b', 'a', 'c', 'a', 'a', 'b'], 'data1': range(7)})\n",
    "df1.head(2)\n"
   ]
  },
  {
   "cell_type": "code",
   "execution_count": 104,
   "metadata": {},
   "outputs": [
    {
     "data": {
      "text/html": [
       "<div>\n",
       "<style>\n",
       "    .dataframe thead tr:only-child th {\n",
       "        text-align: right;\n",
       "    }\n",
       "\n",
       "    .dataframe thead th {\n",
       "        text-align: left;\n",
       "    }\n",
       "\n",
       "    .dataframe tbody tr th {\n",
       "        vertical-align: top;\n",
       "    }\n",
       "</style>\n",
       "<table border=\"1\" class=\"dataframe\">\n",
       "  <thead>\n",
       "    <tr style=\"text-align: right;\">\n",
       "      <th></th>\n",
       "      <th>data1</th>\n",
       "      <th>key</th>\n",
       "    </tr>\n",
       "  </thead>\n",
       "  <tbody>\n",
       "    <tr>\n",
       "      <th>0</th>\n",
       "      <td>0</td>\n",
       "      <td>b</td>\n",
       "    </tr>\n",
       "    <tr>\n",
       "      <th>1</th>\n",
       "      <td>1</td>\n",
       "      <td>b</td>\n",
       "    </tr>\n",
       "  </tbody>\n",
       "</table>\n",
       "</div>"
      ],
      "text/plain": [
       "   data1 key\n",
       "0      0   b\n",
       "1      1   b"
      ]
     },
     "execution_count": 104,
     "metadata": {},
     "output_type": "execute_result"
    }
   ],
   "source": [
    "from pandas import *\n",
    "df1 = DataFrame({'key': ['b', 'b', 'a', 'c', 'a', 'a', 'b'], 'data1': range(7)})\n",
    "df1.head(2)\n"
   ]
  },
  {
   "cell_type": "code",
   "execution_count": 105,
   "metadata": {},
   "outputs": [
    {
     "name": "stdout",
     "output_type": "stream",
     "text": [
      "__main__\n"
     ]
    }
   ],
   "source": [
    "print (__name__)"
   ]
  },
  {
   "cell_type": "code",
   "execution_count": 106,
   "metadata": {},
   "outputs": [
    {
     "name": "stdout",
     "output_type": "stream",
     "text": [
      "It's main\n"
     ]
    }
   ],
   "source": [
    "if __name__==\"__main__\":\n",
    "     print (\"It's main\")\n",
    "else:\n",
    "     print (\"It's not main\")\n"
   ]
  },
  {
   "cell_type": "code",
   "execution_count": 107,
   "metadata": {},
   "outputs": [
    {
     "ename": "ModuleNotFoundError",
     "evalue": "No module named 'myadd'",
     "output_type": "error",
     "traceback": [
      "\u001b[1;31m---------------------------------------------------------------------------\u001b[0m",
      "\u001b[1;31mModuleNotFoundError\u001b[0m                       Traceback (most recent call last)",
      "\u001b[1;32m<ipython-input-107-5db7c2761cce>\u001b[0m in \u001b[0;36m<module>\u001b[1;34m()\u001b[0m\n\u001b[1;32m----> 1\u001b[1;33m \u001b[1;32mimport\u001b[0m \u001b[0mmyadd\u001b[0m \u001b[1;32mas\u001b[0m \u001b[0mmd\u001b[0m     \u001b[1;31m#调用自定义模块myadd\u001b[0m\u001b[1;33m\u001b[0m\u001b[0m\n\u001b[0m",
      "\u001b[1;31mModuleNotFoundError\u001b[0m: No module named 'myadd'"
     ]
    }
   ],
   "source": [
    "import myadd as md     #调用自定义模块myadd"
   ]
  },
  {
   "cell_type": "code",
   "execution_count": null,
   "metadata": {
    "collapsed": true
   },
   "outputs": [],
   "source": [
    "s = md.add(1,3)"
   ]
  },
  {
   "cell_type": "code",
   "execution_count": null,
   "metadata": {},
   "outputs": [],
   "source": [
    "s"
   ]
  },
  {
   "cell_type": "code",
   "execution_count": null,
   "metadata": {
    "collapsed": true
   },
   "outputs": [],
   "source": [
    "import pandas"
   ]
  },
  {
   "cell_type": "code",
   "execution_count": null,
   "metadata": {},
   "outputs": [],
   "source": [
    "dir(pandas)"
   ]
  },
  {
   "cell_type": "code",
   "execution_count": null,
   "metadata": {},
   "outputs": [],
   "source": [
    "a = [1]\n",
    "dir(a)\n"
   ]
  },
  {
   "cell_type": "markdown",
   "metadata": {},
   "source": [
    "# 2.7 Python 异常处理与文件操作"
   ]
  },
  {
   "cell_type": "code",
   "execution_count": 108,
   "metadata": {},
   "outputs": [
    {
     "ename": "NameError",
     "evalue": "name '字符串需要被引用' is not defined",
     "output_type": "error",
     "traceback": [
      "\u001b[1;31m---------------------------------------------------------------------------\u001b[0m",
      "\u001b[1;31mNameError\u001b[0m                                 Traceback (most recent call last)",
      "\u001b[1;32m<ipython-input-108-014af62c96f1>\u001b[0m in \u001b[0;36m<module>\u001b[1;34m()\u001b[0m\n\u001b[1;32m----> 1\u001b[1;33m \u001b[0mprint\u001b[0m \u001b[1;33m(\u001b[0m\u001b[0m字符串需要被引用\u001b[0m\u001b[1;33m)\u001b[0m\u001b[1;33m\u001b[0m\u001b[0m\n\u001b[0m",
      "\u001b[1;31mNameError\u001b[0m: name '字符串需要被引用' is not defined"
     ]
    }
   ],
   "source": [
    "print (字符串需要被引用)"
   ]
  },
  {
   "cell_type": "code",
   "execution_count": 109,
   "metadata": {},
   "outputs": [
    {
     "name": "stdout",
     "output_type": "stream",
     "text": [
      "字符串需要被引用\n"
     ]
    }
   ],
   "source": [
    "print (\"字符串需要被引用\")"
   ]
  },
  {
   "cell_type": "code",
   "execution_count": 110,
   "metadata": {},
   "outputs": [
    {
     "name": "stdout",
     "output_type": "stream",
     "text": [
      "7\n"
     ]
    }
   ],
   "source": [
    "#i=1\n",
    "try:\n",
    "    print (i)\n",
    "except :     #这里一定要指明异常类型\n",
    "    i=9\n",
    "    i+=10\n",
    "    print (\"刚才i没定义，处理了异常之后，i的值为：\"+str(i))\n"
   ]
  },
  {
   "cell_type": "code",
   "execution_count": null,
   "metadata": {},
   "outputs": [],
   "source": [
    "#处理多种异常\n",
    "i=10\n",
    "#j=\"a\"\n",
    "try:\n",
    "    print (i+j)\n",
    "except NameError:\n",
    "    i=j=0\n",
    "    print (\"刚刚i或j没有进行初始化数据，现在我们将其都初始化为0，结果是：\")\n",
    "    print (i+j)\n",
    "except TypeError:\n",
    "    print (\"刚刚i与j类型对应不上，我们转换一下类型即可处理异常，处理后：结果是：\"+str(i)+str(j))\n"
   ]
  },
  {
   "cell_type": "code",
   "execution_count": 111,
   "metadata": {},
   "outputs": [
    {
     "name": "stdout",
     "output_type": "stream",
     "text": [
      "8\n",
      "9\n"
     ]
    },
    {
     "ename": "NameError",
     "evalue": "",
     "output_type": "error",
     "traceback": [
      "\u001b[1;31m---------------------------------------------------------------------------\u001b[0m",
      "\u001b[1;31mNameError\u001b[0m                                 Traceback (most recent call last)",
      "\u001b[1;32m<ipython-input-111-ef2042c7dea1>\u001b[0m in \u001b[0;36m<module>\u001b[1;34m()\u001b[0m\n\u001b[0;32m      3\u001b[0m \u001b[1;32mif\u001b[0m \u001b[0mi\u001b[0m\u001b[1;33m>\u001b[0m\u001b[1;36m7\u001b[0m\u001b[1;33m:\u001b[0m\u001b[1;33m\u001b[0m\u001b[0m\n\u001b[0;32m      4\u001b[0m     \u001b[0mprint\u001b[0m \u001b[1;33m(\u001b[0m\u001b[1;36m9\u001b[0m\u001b[1;33m)\u001b[0m\u001b[1;33m\u001b[0m\u001b[0m\n\u001b[1;32m----> 5\u001b[1;33m     \u001b[1;32mraise\u001b[0m \u001b[0mNameError\u001b[0m\u001b[1;33m\u001b[0m\u001b[0m\n\u001b[0m\u001b[0;32m      6\u001b[0m     \u001b[0mprint\u001b[0m \u001b[1;33m(\u001b[0m\u001b[1;36m10\u001b[0m\u001b[1;33m)\u001b[0m\u001b[1;33m\u001b[0m\u001b[0m\n",
      "\u001b[1;31mNameError\u001b[0m: "
     ]
    }
   ],
   "source": [
    "i=8\n",
    "print (i)\n",
    "if i>7:\n",
    "    print (9)\n",
    "    raise NameError\n",
    "    print (10)\n"
   ]
  },
  {
   "cell_type": "code",
   "execution_count": 112,
   "metadata": {},
   "outputs": [
    {
     "name": "stdout",
     "output_type": "stream",
     "text": [
      "SoSError:我错了\n"
     ]
    }
   ],
   "source": [
    "class SoSError(Exception):                 #按照命名规范，以Error结尾，并且自定义异常需要继承Exception类\n",
    "    def __init__(self):\n",
    "        Exception.__init__(self)\n",
    "try:\n",
    "    i=8\n",
    "    if i>7:\n",
    "        raise SoSError()\n",
    "except SoSError:\n",
    "    print (\"SoSError:我错了\")\n"
   ]
  },
  {
   "cell_type": "code",
   "execution_count": 113,
   "metadata": {},
   "outputs": [
    {
     "name": "stdout",
     "output_type": "stream",
     "text": [
      "不管上面是否异常，我必须输出hello world！\n"
     ]
    },
    {
     "ename": "NameError",
     "evalue": "name 'w' is not defined",
     "output_type": "error",
     "traceback": [
      "\u001b[1;31m---------------------------------------------------------------------------\u001b[0m",
      "\u001b[1;31mNameError\u001b[0m                                 Traceback (most recent call last)",
      "\u001b[1;32m<ipython-input-113-0c434c913ed5>\u001b[0m in \u001b[0;36m<module>\u001b[1;34m()\u001b[0m\n\u001b[0;32m      1\u001b[0m \u001b[1;31m#假如要实现不管中间是否发生异常，都要输出hello world\u001b[0m\u001b[1;33m\u001b[0m\u001b[1;33m\u001b[0m\u001b[0m\n\u001b[0;32m      2\u001b[0m \u001b[1;32mtry\u001b[0m\u001b[1;33m:\u001b[0m\u001b[1;33m\u001b[0m\u001b[0m\n\u001b[1;32m----> 3\u001b[1;33m     \u001b[0mprint\u001b[0m \u001b[1;33m(\u001b[0m\u001b[0mw\u001b[0m\u001b[1;33m)\u001b[0m\u001b[1;33m\u001b[0m\u001b[0m\n\u001b[0m\u001b[0;32m      4\u001b[0m \u001b[1;32mfinally\u001b[0m\u001b[1;33m:\u001b[0m\u001b[1;33m\u001b[0m\u001b[0m\n\u001b[0;32m      5\u001b[0m     \u001b[0mprint\u001b[0m \u001b[1;33m(\u001b[0m\u001b[1;34m\"不管上面是否异常，我必须输出hello world！\"\u001b[0m\u001b[1;33m)\u001b[0m\u001b[1;33m\u001b[0m\u001b[0m\n",
      "\u001b[1;31mNameError\u001b[0m: name 'w' is not defined"
     ]
    }
   ],
   "source": [
    "#假如要实现不管中间是否发生异常，都要输出hello world\n",
    "try:\n",
    "    print (w)\n",
    "finally:\n",
    "    print (\"不管上面是否异常，我必须输出hello world！\")\n"
   ]
  },
  {
   "cell_type": "code",
   "execution_count": 115,
   "metadata": {},
   "outputs": [
    {
     "ename": "FileNotFoundError",
     "evalue": "[WinError 3] 系统找不到指定的路径。: 'd:/newdir'",
     "output_type": "error",
     "traceback": [
      "\u001b[1;31m---------------------------------------------------------------------------\u001b[0m",
      "\u001b[1;31mFileNotFoundError\u001b[0m                         Traceback (most recent call last)",
      "\u001b[1;32m<ipython-input-115-f3c4655addb0>\u001b[0m in \u001b[0;36m<module>\u001b[1;34m()\u001b[0m\n\u001b[0;32m      1\u001b[0m \u001b[1;31m#创建某个文件\u001b[0m\u001b[1;33m\u001b[0m\u001b[1;33m\u001b[0m\u001b[0m\n\u001b[0;32m      2\u001b[0m \u001b[1;32mimport\u001b[0m \u001b[0mos\u001b[0m\u001b[1;33m\u001b[0m\u001b[0m\n\u001b[1;32m----> 3\u001b[1;33m \u001b[0mos\u001b[0m\u001b[1;33m.\u001b[0m\u001b[0mmkdir\u001b[0m\u001b[1;33m(\u001b[0m\u001b[1;34mr\"d:/newdir\"\u001b[0m\u001b[1;33m)\u001b[0m\u001b[1;33m\u001b[0m\u001b[0m\n\u001b[0m",
      "\u001b[1;31mFileNotFoundError\u001b[0m: [WinError 3] 系统找不到指定的路径。: 'd:/newdir'"
     ]
    }
   ],
   "source": [
    "#创建某个文件\n",
    "import os\n",
    "os.mkdir(r\"d:/newdir\")"
   ]
  },
  {
   "cell_type": "code",
   "execution_count": 114,
   "metadata": {
    "collapsed": true
   },
   "outputs": [],
   "source": [
    "content='''我是文件内容\n",
    "内容是\n",
    "如何做好Python量化投资\n",
    "'''\n"
   ]
  },
  {
   "cell_type": "code",
   "execution_count": null,
   "metadata": {
    "collapsed": true
   },
   "outputs": [],
   "source": [
    "file=open(r\"d:\\newdir\\test.txt\",'w')  #w参数，直接打开一个文件，不存在则创建文件"
   ]
  },
  {
   "cell_type": "code",
   "execution_count": null,
   "metadata": {
    "collapsed": true
   },
   "outputs": [],
   "source": [
    "file.write(content)\n",
    "file.close()\n"
   ]
  },
  {
   "cell_type": "code",
   "execution_count": null,
   "metadata": {},
   "outputs": [],
   "source": [
    "fr=open(r\"d:\\newdir\\test.txt\")\n",
    "while True:\n",
    "    line=fr.readline()\n",
    "    if len(line)==0:\n",
    "        break\n",
    "    print (line)\n",
    "fr.close\n"
   ]
  },
  {
   "cell_type": "code",
   "execution_count": null,
   "metadata": {},
   "outputs": [],
   "source": [
    "fr=open(r\"d:\\newdir\\test.txt\",'r')\n",
    "for u in fr:\n",
    "    print (u)\n",
    "fr.close\n"
   ]
  }
 ],
 "metadata": {
  "kernelspec": {
   "display_name": "Python 3",
   "language": "python",
   "name": "python3"
  },
  "language_info": {
   "codemirror_mode": {
    "name": "ipython",
    "version": 3
   },
   "file_extension": ".py",
   "mimetype": "text/x-python",
   "name": "python",
   "nbconvert_exporter": "python",
   "pygments_lexer": "ipython3",
   "version": "3.6.7"
  }
 },
 "nbformat": 4,
 "nbformat_minor": 2
}
